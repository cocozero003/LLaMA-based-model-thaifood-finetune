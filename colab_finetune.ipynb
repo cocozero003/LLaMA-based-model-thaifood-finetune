{
 "cells": [
  {
   "cell_type": "code",
   "source": [
    "!pip install transformers datasets peft bitsandbytes accelerate trl"
   ],
   "metadata": {},
   "execution_count": null,
   "outputs": []
  },
  {
   "cell_type": "code",
   "source": [
    "from transformers import AutoTokenizer, AutoModelForCausalLM, TrainingArguments, Trainer
",
    "from peft import get_peft_model, LoraConfig, TaskType
",
    "from datasets import load_dataset
",
    "import torch
",
    "
",
    "model_id = "deepseek-ai/deepseek-llm-7b-base"
",
    "tokenizer = AutoTokenizer.from_pretrained(model_id)
",
    "model = AutoModelForCausalLM.from_pretrained(model_id, load_in_4bit=True, device_map="auto")
",
    "
",
    "lora_config = LoraConfig(
",
    "    r=8,
",
    "    lora_alpha=16,
",
    "    target_modules=["q_proj", "v_proj"],
",
    "    lora_dropout=0.1,
",
    "    bias="none",
",
    "    task_type=TaskType.CAUSAL_LM
",
    ")
",
    "model = get_peft_model(model, lora_config)
",
    "
",
    "dataset = load_dataset("Adun/thaifood-cot", split="train[:1000]")
",
    "def format(example):
",
    "    prompt = f"Question: {example['Question']}\nThink: {example['Think']}\nAnswer:"
",
    "    target = example["Answer"]
",
    "    return tokenizer(prompt + target, truncation=True, padding="max_length", max_length=512)
",
    "dataset = dataset.map(format)
",
    "
",
    "training_args = TrainingArguments(
",
    "    output_dir="./lora-output",
",
    "    per_device_train_batch_size=4,
",
    "    num_train_epochs=3,
",
    "    logging_steps=10,
",
    "    save_strategy="epoch",
",
    "    fp16=True,
",
    "    save_total_limit=1,
",
    ")
",
    "
",
    "trainer = Trainer(
",
    "    model=model,
",
    "    args=training_args,
",
    "    train_dataset=dataset
",
    ")
",
    "trainer.train()"
   ],
   "metadata": {},
   "execution_count": null,
   "outputs": []
  }
 ],
 "metadata": {
  "kernelspec": {
   "name": "python3",
   "display_name": "Python 3"
  },
  "language_info": {
   "name": "python"
  }
 },
 "nbformat": 4,
 "nbformat_minor": 2
}